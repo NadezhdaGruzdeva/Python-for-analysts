{
 "cells": [
  {
   "cell_type": "markdown",
   "id": "3af21be1",
   "metadata": {},
   "source": [
    "# Оформление ноутбука и закрепление функций и генераторов"
   ]
  },
  {
   "cell_type": "markdown",
   "id": "2ff813dd",
   "metadata": {},
   "source": [
    "### Полезные ссылки\n",
    "лекция https://gb.ru/lessons/316582  \n",
    "семинар https://gb.ru/lessons/318514#  \n",
    "аргументы функций https://habr.com/ru/company/ruvds/blog/482464/  \n",
    "аннотирование для args и kwargs https://stackoverflow.com/questions/37031928/type-annotations-for-args-and-kwargs  \n",
    "итерация по словарям https://python-lab.ru/4-sposoba-perebora-slovarya-v-python  \n"
   ]
  },
  {
   "cell_type": "markdown",
   "id": "e7e14c09",
   "metadata": {},
   "source": [
    "## Задача 1\n",
    "На складе лежат разные фрукты в разном количестве.  \n",
    "Нужно написать функцию, которая на вход принимает любое количество названий фруктов и их количество, а возвращает общее количество фруктов на складе"
   ]
  },
  {
   "cell_type": "code",
   "execution_count": 1,
   "id": "0dac1911",
   "metadata": {},
   "outputs": [],
   "source": [
    "def Total_qty(**fruits: int) -> int: #необязательно называть переменную kwargs/args\n",
    "    return sum(fruits.values()) "
   ]
  },
  {
   "cell_type": "code",
   "execution_count": 2,
   "id": "32227e1c",
   "metadata": {},
   "outputs": [
    {
     "data": {
      "text/plain": [
       "100"
      ]
     },
     "execution_count": 2,
     "metadata": {},
     "output_type": "execute_result"
    }
   ],
   "source": [
    "test = Total_qty(a = 1, v = 1, b = 1, m = 97)\n",
    "test"
   ]
  },
  {
   "cell_type": "markdown",
   "id": "683cc89f",
   "metadata": {},
   "source": [
    "## Задача 2\n",
    "Дан список с затратами на рекламу.  \n",
    "Но в данных есть ошибки, некоторые затраты имеют отрицательную величину.  \n",
    "Удалите такие значения из списка и посчитайте суммарные затраты\n",
    "[100, 125, -90, 345, 655, -1, 0, 200]\n",
    "Используйте list comprehensions"
   ]
  },
  {
   "cell_type": "code",
   "execution_count": 3,
   "id": "b00f0850",
   "metadata": {},
   "outputs": [],
   "source": [
    "adv_cost = [100, 125, -90, 345, 655, -1, 0, 200] "
   ]
  },
  {
   "cell_type": "code",
   "execution_count": 4,
   "id": "8c63897e",
   "metadata": {},
   "outputs": [],
   "source": [
    "def Sum_without_negative_values (full_list: list) -> int:\n",
    "    return sum([i for i in full_list if i > 0]) #0 на сумму не влияет поэтому не будем утяжелять функцию операцией >="
   ]
  },
  {
   "cell_type": "code",
   "execution_count": 5,
   "id": "a88e973d",
   "metadata": {},
   "outputs": [
    {
     "data": {
      "text/plain": [
       "1425"
      ]
     },
     "execution_count": 5,
     "metadata": {},
     "output_type": "execute_result"
    }
   ],
   "source": [
    "test = Sum_without_negative_values(adv_cost)\n",
    "test"
   ]
  },
  {
   "cell_type": "markdown",
   "id": "2f63c3a7",
   "metadata": {},
   "source": [
    "## Задача 3\n",
    "Даны два списка.  \n",
    "**Дата покупки:**  \n",
    "['2021-09-14', '2021-12-15', '2021-09-08', '2021-12-05', '2021-10-09', '2021-09-30', '2021-12-22', '2021-11-29', '2021-12-24', '2021-11-26', '2021-10-27', '2021-12-18', '2021-11-09', '2021-11-23', '2021-09-27', '2021-10-02', '2021-12-27', '2021-09-20', '2021-12-13', '2021-11-01', '2021-11-09', '2021-12-06', '2021-12-08', '2021-10-09', '2021-10-31', '2021-09-30', '2021-11-09', '2021-12-13', '2021-10-26', '2021-12-09']  \n",
    "**Суммы покупок по датам:**  \n",
    "[1270, 8413, 9028, 3703, 5739, 4095, 295, 4944, 5723, 3701, 4471, 651, 7037, 4274, 6275, 4988, 6930, 2971, 6592, 2004, 2822, 519, 3406, 2732, 5015, 2008, 316, 6333, 5700, 2887]"
   ]
  },
  {
   "cell_type": "code",
   "execution_count": 6,
   "id": "a7f1744c",
   "metadata": {},
   "outputs": [],
   "source": [
    "#дано\n",
    "date = ['2021-09-14', '2021-12-15', '2021-09-08', '2021-12-05', '2021-10-09', '2021-09-30', '2021-12-22', '2021-11-29', '2021-12-24', '2021-11-26', '2021-10-27', '2021-12-18', '2021-11-09', '2021-11-23', '2021-09-27', '2021-10-02', '2021-12-27', '2021-09-20', '2021-12-13', '2021-11-01', '2021-11-09', '2021-12-06', '2021-12-08', '2021-10-09', '2021-10-31', '2021-09-30', '2021-11-09', '2021-12-13', '2021-10-26', '2021-12-09']\n",
    "amount = [1270, 8413, 9028, 3703, 5739, 4095, 295, 4944, 5723, 3701, 4471, 651, 7037, 4274, 6275, 4988, 6930, 2971, 6592, 2004, 2822, 519, 3406, 2732, 5015, 2008, 316, 6333, 5700, 2887]"
   ]
  },
  {
   "cell_type": "code",
   "execution_count": 7,
   "id": "385cea83",
   "metadata": {},
   "outputs": [
    {
     "data": {
      "text/plain": [
       "True"
      ]
     },
     "execution_count": 7,
     "metadata": {},
     "output_type": "execute_result"
    }
   ],
   "source": [
    "len(date) == len(amount) #На всякий случай проверим соответствие размеров списков"
   ]
  },
  {
   "cell_type": "markdown",
   "id": "7a9abd92",
   "metadata": {},
   "source": [
    "### Задача 3.1.  \n",
    "Найдите, какая выручка у компании в ноябре  \n",
    "Используйте list comprehensions  "
   ]
  },
  {
   "cell_type": "code",
   "execution_count": 8,
   "id": "bd690b29",
   "metadata": {},
   "outputs": [],
   "source": [
    "def List2_filter_based_on_list1_values(list1: list, list2: list, value_for_filtering: str) -> list:\n",
    "    if len(date) != len(amount):\n",
    "        return print('Lists have different sizes')\n",
    "    else:\n",
    "        return [list2[i] for i in range(len(list1)) if value_for_filtering in list1[i]]"
   ]
  },
  {
   "cell_type": "code",
   "execution_count": 9,
   "id": "e91e9d58",
   "metadata": {},
   "outputs": [
    {
     "data": {
      "text/plain": [
       "[4944, 3701, 7037, 4274, 2004, 2822, 316]"
      ]
     },
     "execution_count": 9,
     "metadata": {},
     "output_type": "execute_result"
    }
   ],
   "source": [
    "amount_11 = List2_filter_based_on_list1_values(list2 = amount, list1 = date, value_for_filtering = \"-11-\")\n",
    "amount_11"
   ]
  },
  {
   "cell_type": "code",
   "execution_count": 10,
   "id": "c516c95d",
   "metadata": {},
   "outputs": [
    {
     "data": {
      "text/plain": [
       "25098"
      ]
     },
     "execution_count": 10,
     "metadata": {},
     "output_type": "execute_result"
    }
   ],
   "source": [
    "sum(amount_11)"
   ]
  },
  {
   "cell_type": "markdown",
   "id": "07b4dee5",
   "metadata": {},
   "source": [
    "### Задача 3.2.  \n",
    "Найдите выручку компании в зависимости от месяца.  \n",
    "Для этого напишите функцию, которая на вход принимает список с датами и список с выручкой, а на выходе словарь, где ключи - это месяцы, а значения - это выручка.  \n",
    "Используйте аннотирование типов."
   ]
  },
  {
   "cell_type": "markdown",
   "id": "7facd123",
   "metadata": {},
   "source": [
    "**Рустем, см. верное решение этой задачи в пункте 3.2.2**"
   ]
  },
  {
   "cell_type": "markdown",
   "id": "be23ef0a",
   "metadata": {},
   "source": [
    "**3.2.1. Заготовка для функции, которая на первом этапе формирует словарь из 2-х списков - неудачное решение (сохранила для себя).**"
   ]
  },
  {
   "cell_type": "code",
   "execution_count": 11,
   "id": "2f35195d",
   "metadata": {},
   "outputs": [],
   "source": [
    "def get_dict(keys: list, values: list) -> dict:\n",
    "    return dict(zip(keys, values))"
   ]
  },
  {
   "cell_type": "code",
   "execution_count": 12,
   "id": "5f659b18",
   "metadata": {},
   "outputs": [
    {
     "data": {
      "text/plain": [
       "{'2021-09-14': 1270,\n",
       " '2021-12-15': 8413,\n",
       " '2021-09-08': 9028,\n",
       " '2021-12-05': 3703,\n",
       " '2021-10-09': 2732,\n",
       " '2021-09-30': 2008,\n",
       " '2021-12-22': 295,\n",
       " '2021-11-29': 4944,\n",
       " '2021-12-24': 5723,\n",
       " '2021-11-26': 3701,\n",
       " '2021-10-27': 4471,\n",
       " '2021-12-18': 651,\n",
       " '2021-11-09': 316,\n",
       " '2021-11-23': 4274,\n",
       " '2021-09-27': 6275,\n",
       " '2021-10-02': 4988,\n",
       " '2021-12-27': 6930,\n",
       " '2021-09-20': 2971,\n",
       " '2021-12-13': 6333,\n",
       " '2021-11-01': 2004,\n",
       " '2021-12-06': 519,\n",
       " '2021-12-08': 3406,\n",
       " '2021-10-31': 5015,\n",
       " '2021-10-26': 5700,\n",
       " '2021-12-09': 2887}"
      ]
     },
     "execution_count": 12,
     "metadata": {},
     "output_type": "execute_result"
    }
   ],
   "source": [
    "normal = get_dict(keys = date, values = amount)\n",
    "normal"
   ]
  },
  {
   "cell_type": "code",
   "execution_count": 13,
   "id": "9a4705bc",
   "metadata": {},
   "outputs": [
    {
     "data": {
      "text/plain": [
       "[('09', 21552), ('10', 22906), ('11', 15239), ('12', 38860)]"
      ]
     },
     "execution_count": 13,
     "metadata": {},
     "output_type": "execute_result"
    }
   ],
   "source": [
    "pivot_dict ={}\n",
    "for item in normal.items():\n",
    "    month = item[0][5:7]\n",
    "    if month in pivot_dict.keys():\n",
    "        pivot_dict [month] += item[1]\n",
    "    else:\n",
    "        pivot_dict [month] = item[1]\n",
    "sorted(pivot_dict.items())"
   ]
  },
  {
   "cell_type": "markdown",
   "id": "4511f816",
   "metadata": {},
   "source": [
    "Разультат не правильный.  \n",
    "Это связано с тем, что, сшивая списки в словарь через функцию zip, при наличия одинаковых ключей в исходном списке они схлопываются, а присвоенные им значения не суммируются, а берется одно из них, поэтому сделаем словарь лишь в конце, а до эт ого будем оперировать списками.   \n",
    "to be continued...\n"
   ]
  },
  {
   "cell_type": "markdown",
   "id": "3820c011",
   "metadata": {},
   "source": [
    "**3.2.2. Правильное решение, где изначально оперируем списками**"
   ]
  },
  {
   "cell_type": "code",
   "execution_count": 16,
   "id": "40f73631",
   "metadata": {},
   "outputs": [],
   "source": [
    "def Pivot_dict_from_2_lists(list1: list = date, list2: list = amount) -> dict:\n",
    "    len_date = len(date) #для  оптимизации ф-ии\n",
    "    if len_date != len(amount):\n",
    "        return print(\"Lists have different sizes. It's inpossible to create pivot table\")\n",
    "    else:\n",
    "        result ={}\n",
    "        for i in range(len_date):\n",
    "            month = date[i][5:7] #2 цифры месяца\n",
    "            if month in result.keys():\n",
    "                result [month] += amount[i]\n",
    "            else:\n",
    "                result [month] = amount[i]\n",
    "        return sorted(result.items())\n",
    "        "
   ]
  },
  {
   "cell_type": "code",
   "execution_count": 19,
   "id": "0f640795",
   "metadata": {},
   "outputs": [
    {
     "data": {
      "text/plain": [
       "[('09', 25647), ('10', 28645), ('11', 25098), ('12', 45452)]"
      ]
     },
     "execution_count": 19,
     "metadata": {},
     "output_type": "execute_result"
    }
   ],
   "source": [
    "# Pivot_dict_from_2_lists(list1 = date, list2 = amount)\n",
    "Pivot_dict_from_2_lists()"
   ]
  },
  {
   "cell_type": "markdown",
   "id": "981af2f7",
   "metadata": {},
   "source": [
    "Рустем, а как задать срез (например 5:7) переменной? Чтобы в функцию для формирования сводной таблицы можно было сделать более универсальной. Строковый тип данных не распознается как срез увы(\n",
    "\n",
    "И можно ли решить последнюю задачу с помощью list/dict comprehansions? И было бы целесообразно ее так решать?"
   ]
  }
 ],
 "metadata": {
  "celltoolbar": "Отсутствует",
  "kernelspec": {
   "display_name": "Python 3 (ipykernel)",
   "language": "python",
   "name": "python3"
  },
  "language_info": {
   "codemirror_mode": {
    "name": "ipython",
    "version": 3
   },
   "file_extension": ".py",
   "mimetype": "text/x-python",
   "name": "python",
   "nbconvert_exporter": "python",
   "pygments_lexer": "ipython3",
   "version": "3.10.10"
  }
 },
 "nbformat": 4,
 "nbformat_minor": 5
}
